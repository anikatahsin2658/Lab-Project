{
  "nbformat": 4,
  "nbformat_minor": 0,
  "metadata": {
    "colab": {
      "name": "1. Build a CNN for 5types birds classification.ipynb",
      "private_outputs": true,
      "provenance": [],
      "mount_file_id": "1PXX2n5ctsq6TIXJc25MCD0Z7zEo_gNWE",
      "authorship_tag": "ABX9TyMJokt78kgRKPion1064INE",
      "include_colab_link": true
    },
    "kernelspec": {
      "name": "python3",
      "display_name": "Python 3"
    },
    "language_info": {
      "name": "python"
    },
    "accelerator": "GPU"
  },
  "cells": [
    {
      "cell_type": "markdown",
      "metadata": {
        "id": "view-in-github",
        "colab_type": "text"
      },
      "source": [
        "<a href=\"https://colab.research.google.com/github/anikatahsin2658/Lab-Project/blob/main/1_Build_a_CNN_for_5types_birds_classification.ipynb\" target=\"_parent\"><img src=\"https://colab.research.google.com/assets/colab-badge.svg\" alt=\"Open In Colab\"/></a>"
      ]
    },
    {
      "cell_type": "code",
      "metadata": {
        "id": "eFKedZ2l_JUB"
      },
      "source": [
        "import tensorflow as tf\n",
        "from tensorflow.keras import datasets ,layers,models\n",
        "import matplotlib.pyplot as plt\n",
        "import numpy as np"
      ],
      "execution_count": null,
      "outputs": []
    },
    {
      "cell_type": "code",
      "metadata": {
        "id": "qF1GmDwA_fOc"
      },
      "source": [
        "!nvidia-smi"
      ],
      "execution_count": null,
      "outputs": []
    },
    {
      "cell_type": "code",
      "metadata": {
        "id": "JklFLRle_gBN"
      },
      "source": [
        "datadir='/content/drive/MyDrive/DMLab/bird picture'"
      ],
      "execution_count": null,
      "outputs": []
    },
    {
      "cell_type": "code",
      "metadata": {
        "id": "x0X2wbhD_4WV"
      },
      "source": [
        "cat=['KILLDEAR','KING VULTURE','KIWI','KOOKABURRA','LARK BUNTING']"
      ],
      "execution_count": null,
      "outputs": []
    },
    {
      "cell_type": "code",
      "metadata": {
        "id": "FdGOr-8-AAKt"
      },
      "source": [
        "import matplotlib.image as mpimg\n",
        "import os\n",
        "import cv2"
      ],
      "execution_count": null,
      "outputs": []
    },
    {
      "cell_type": "code",
      "metadata": {
        "id": "d2YyIq1MAAxv"
      },
      "source": [
        "img_size=[224,224]"
      ],
      "execution_count": null,
      "outputs": []
    },
    {
      "cell_type": "code",
      "metadata": {
        "id": "6ivHPVMiAA9-"
      },
      "source": [
        "img_shape=(224,224)"
      ],
      "execution_count": null,
      "outputs": []
    },
    {
      "cell_type": "code",
      "metadata": {
        "id": "5TWS7gabABCJ"
      },
      "source": [
        "data=[]\n",
        "for cats in cat:\n",
        "  folder=os.path.join(datadir,cats)\n",
        "  label=cat.index(cats)\n",
        "  for img in os.listdir(folder):\n",
        "    image=os.path.join(folder,img)\n",
        "    image_array=cv2.imread(image)\n",
        "\n",
        "    \n",
        "    image_array=cv2.resize(image_array,img_shape,interpolation=cv2.INTER_AREA)\n",
        "    data.append([image_array,label])"
      ],
      "execution_count": null,
      "outputs": []
    },
    {
      "cell_type": "code",
      "metadata": {
        "id": "B3pSsqALABGE"
      },
      "source": [
        "from tensorflow import keras"
      ],
      "execution_count": null,
      "outputs": []
    },
    {
      "cell_type": "code",
      "metadata": {
        "id": "Tv7aTy18ABJ9"
      },
      "source": [
        "data_augmentation=keras.Sequential([\n",
        "                                    layers.experimental.preprocessing.RandomFlip(),\n",
        "                                    layers.experimental.preprocessing.RandomRotation(0.1),\n",
        "                                    layers.experimental.preprocessing.RandomZoom(0.1)\n",
        "])"
      ],
      "execution_count": null,
      "outputs": []
    },
    {
      "cell_type": "code",
      "metadata": {
        "id": "9IIbweYAABOE"
      },
      "source": [
        "import random\n",
        "random.shuffle(data)\n",
        "x=[]\n",
        "y=[]\n",
        "for f, l in data:\n",
        "  x.append(f)\n",
        "  y.append(l)\n",
        "x=np.array(x)\n",
        "y=np.array(y)\n",
        "x=x/255"
      ],
      "execution_count": null,
      "outputs": []
    },
    {
      "cell_type": "code",
      "metadata": {
        "id": "EQ5inFDfABRe"
      },
      "source": [
        "plt.imshow(x[2])"
      ],
      "execution_count": null,
      "outputs": []
    },
    {
      "cell_type": "code",
      "metadata": {
        "id": "G9zhyKXSABVt"
      },
      "source": [
        "y[2]"
      ],
      "execution_count": null,
      "outputs": []
    },
    {
      "cell_type": "code",
      "metadata": {
        "id": "PMrSfcRRABZm"
      },
      "source": [
        "def plot_labal(x,y,i):\n",
        "  plt.imshow(x[i])\n",
        "  plt.xlabel(cat[y[i]])"
      ],
      "execution_count": null,
      "outputs": []
    },
    {
      "cell_type": "code",
      "metadata": {
        "id": "whD7Ps66ABd3"
      },
      "source": [
        "plot_labal(x,y,7)"
      ],
      "execution_count": null,
      "outputs": []
    },
    {
      "cell_type": "code",
      "metadata": {
        "id": "yFFtlM5YABiO"
      },
      "source": [
        "from sklearn.model_selection import train_test_split\n",
        "xtrain,xtest,ytrain,ytest=train_test_split(x,y,test_size=0.3,random_state=0)"
      ],
      "execution_count": null,
      "outputs": []
    },
    {
      "cell_type": "code",
      "metadata": {
        "id": "JMMCcdcOABmK"
      },
      "source": [
        "cnn=models.Sequential([\n",
        "                       data_augmentation,\n",
        "                       layers.Conv2D(filters=32,kernel_size=(3,3),activation='relu',input_shape=(224,224,3)),\n",
        "                       layers.MaxPool2D((2,2)),\n",
        "                       layers.Conv2D(filters=64,kernel_size=(3,3),activation='relu'),\n",
        "                       layers.MaxPool2D((2,2)),\n",
        "                       layers.Flatten(),\n",
        "                       layers.Dense(1000,activation='relu'),\n",
        "                       layers.Dense(6,activation='softmax')\n",
        "])\n",
        "cnn.compile(\n",
        "    optimizer='adam',\n",
        "    loss='sparse_categorical_crossentropy',\n",
        "    metrics=['accuracy']\n",
        ")"
      ],
      "execution_count": null,
      "outputs": []
    },
    {
      "cell_type": "code",
      "metadata": {
        "id": "sL4Y7JIuABqj"
      },
      "source": [
        "cnn.fit(xtrain,ytrain,epochs=50)"
      ],
      "execution_count": null,
      "outputs": []
    },
    {
      "cell_type": "code",
      "metadata": {
        "id": "nG1bs6xMABvF"
      },
      "source": [
        "cnn.evaluate(xtest,ytest)"
      ],
      "execution_count": null,
      "outputs": []
    },
    {
      "cell_type": "code",
      "metadata": {
        "id": "qzgp53uPBf-m"
      },
      "source": [
        "ypred=cnn.predict(xtest)\n",
        "ypred=[np.argmax(i) for i in ypred]"
      ],
      "execution_count": null,
      "outputs": []
    },
    {
      "cell_type": "code",
      "metadata": {
        "id": "3kluqkgXBgJE"
      },
      "source": [
        "from sklearn.metrics import classification_report ,confusion_matrix"
      ],
      "execution_count": null,
      "outputs": []
    },
    {
      "cell_type": "code",
      "metadata": {
        "id": "gbTDLZ3iBgQN"
      },
      "source": [
        "print('Classification Report \\n',classification_report(ytest,ypred))"
      ],
      "execution_count": null,
      "outputs": []
    }
  ]
}